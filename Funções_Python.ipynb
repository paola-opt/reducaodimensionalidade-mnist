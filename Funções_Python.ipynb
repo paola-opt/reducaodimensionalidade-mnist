{
  "cells": [
    {
      "cell_type": "markdown",
      "metadata": {
        "id": "view-in-github",
        "colab_type": "text"
      },
      "source": [
        "<a href=\"https://colab.research.google.com/github/paola-opt/reducaodimensionalidade-mnist/blob/main/Fun%C3%A7%C3%B5es_Python.ipynb\" target=\"_parent\"><img src=\"https://colab.research.google.com/assets/colab-badge.svg\" alt=\"Open In Colab\"/></a>"
      ]
    },
    {
      "cell_type": "markdown",
      "metadata": {
        "id": "fZu819fMQNKI"
      },
      "source": [
        "DESAFIO 1\n",
        "\n",
        "Crie um programa que solicita ao usuário que insira três notas (valores de 0 a 10) e, em seguida, calcule e exiba a média dessas notas.\n",
        "\n",
        "Além disso, informe ao usuário se ele foi aprovado ou reprovado com base na média das notas, considerando a média mínima de aprovação como 6."
      ]
    },
    {
      "cell_type": "code",
      "execution_count": null,
      "metadata": {
        "colab": {
          "base_uri": "https://localhost:8080/"
        },
        "id": "izTOnZTxT-G4",
        "outputId": "7517666e-2783-428e-f8cd-d55ca8d09aa9"
      },
      "outputs": [
        {
          "name": "stdout",
          "output_type": "stream",
          "text": [
            "Digite a primeira nota (de 0 a 10)10\n",
            "Digite a segunda nota (de 0 a 10)20\n",
            "Digite a terceira nota (de 0 a 10)10\n",
            "Existe nota inserida fora do intervalo válido (de 0 a 10).\n",
            "Digite a primeira nota (de 0 a 10)10\n",
            "Digite a segunda nota (de 0 a 10)10\n",
            "Digite a terceira nota (de 0 a 10)0\n",
            "Parabéns! Você foi aprovado com média 6.67\n",
            "Deseja calcular outro número? (s/n): n\n"
          ]
        }
      ],
      "source": [
        "def calculo_media():\n",
        "\n",
        "  while True:\n",
        "   nota1 = float(input(\"Digite a primeira nota de 0 a 10\"))\n",
        "   nota2 = float(input(\"Digite a segunda nota de 0 a 10\"))\n",
        "   nota3 = float(input(\"Digite a terceira nota de 0 a 10\"))\n",
        "\n",
        "   # Verificando se as notas estão dentro do intervalo solicitado, se não estiver, vai parar e voltar para o início da função\n",
        "   if nota1 < 0 or nota1 > 10 or nota2 < 0 or nota2 > 10 or nota3 < 0 or nota3 > 10:\n",
        "    print(\"Existe nota inserida fora do intervalo válido de 0 a 10.\")\n",
        "    continue #Volta para o início da função\n",
        "\n",
        "     # Calcula a média\n",
        "   media = (nota1 + nota2 + nota3) / 3\n",
        "\n",
        "   if media >= 6:\n",
        "        print(f\"Parabéns! Você foi aprovado com média {media:.2f}\")\n",
        "   else:\n",
        "        print(f\"Infelizmente sua média foi {media:.2f}, você foi reprovado.\")\n",
        "\n",
        "   continuar = input(\"Deseja calcular outro número? (s/n): \")\n",
        "   if continuar.lower() != 's':\n",
        "        break\n",
        "\n",
        "calculo_media()"
      ]
    },
    {
      "cell_type": "markdown",
      "metadata": {
        "id": "_m8mBod2g9Iv"
      },
      "source": [
        "DESAFIO 2\n",
        "\n",
        "Escreva um programa que receba uma string e conte quantas vogais (a, e, i, o, u) ela contém."
      ]
    },
    {
      "cell_type": "code",
      "execution_count": null,
      "metadata": {
        "colab": {
          "base_uri": "https://localhost:8080/"
        },
        "id": "G3MkSdjIfMay",
        "outputId": "9ff399f6-ebf0-4f87-b785-bee43668cf83"
      },
      "outputs": [
        {
          "name": "stdout",
          "output_type": "stream",
          "text": [
            "A palavra contém 4 vogais.\n",
            "A palavra contém 5 vogais.\n"
          ]
        }
      ],
      "source": [
        "def string(texto):\n",
        "  vogais= \"aeiouAEIOU\"\n",
        "  cont = 0\n",
        "\n",
        "  for i in texto:\n",
        "    if i in vogais:\n",
        "      cont = cont + 1\n",
        "  return print(f\"A palavra possui {cont} vogais.\")\n",
        "\n",
        "string(\"aurora\")\n",
        "string(\"aeiou\")\n",
        "\n"
      ]
    },
    {
      "cell_type": "markdown",
      "metadata": {
        "id": "azEJl_Q6cFFz"
      },
      "source": [
        "DESAFIO 3\n",
        "\n",
        "Escreva um programa em que o computador escolhe um número aleatório entre 1 e 100 e o usuário tenta adivinhar. O programa deve informar se o palpite é muito alto, muito baixo ou correto."
      ]
    },
    {
      "cell_type": "code",
      "source": [
        "import random  #quero que dentro de 1 numero eu fique tentando adivinhar\n",
        "\n",
        "def adivinha_num():\n",
        "  num_aleatorio = random.randint(1,100)\n",
        "  tentativa = 0\n",
        "\n",
        "  while True:\n",
        "      num_usuario = float(input(\"Tente adivinhar um número de 0 a 100:\"))\n",
        "      # Verificando se as notas estão dentro do intervalo solicitado, se não estiver, vai parar e voltar para o início da função\n",
        "      if num_usuario < 0 or num_usuario > 100:\n",
        "         print(\"O número inserido está fora do intervalo de 0 a 100. Insira um número válido.\")\n",
        "         continue #Volta para o início da função\n",
        "\n",
        "      tentativa += 1\n",
        "\n",
        "      if num_usuario > num_aleatorio:\n",
        "         print(\"Número muito alto\")\n",
        "      elif num_usuario < num_aleatorio:\n",
        "         print(\"Número muito baixo\")\n",
        "      else:\n",
        "         print(\"Parabéns! Você acertou o número\")\n",
        "         break\n",
        "\n",
        "adivinha_num()"
      ],
      "metadata": {
        "colab": {
          "base_uri": "https://localhost:8080/"
        },
        "id": "WYexp3qcy200",
        "outputId": "c9a2548e-4d1a-424f-bc6f-c3c6b0166344"
      },
      "execution_count": null,
      "outputs": [
        {
          "output_type": "stream",
          "name": "stdout",
          "text": [
            "Tente adivinhar um número de 0 a 100:10\n",
            "Número muito baixo\n",
            "Tente adivinhar um número de 0 a 100:-1\n",
            "O número inserido está fora do intervalode 0 a 100.\n",
            "Tente adivinhar um número de 0 a 100:-2\n",
            "O número inserido está fora do intervalode 0 a 100.\n",
            "Tente adivinhar um número de 0 a 100:102\n",
            "O número inserido está fora do intervalode 0 a 100.\n",
            "Tente adivinhar um número de 0 a 100:2\n",
            "Número muito baixo\n",
            "Tente adivinhar um número de 0 a 100:60\n",
            "Número muito baixo\n",
            "Tente adivinhar um número de 0 a 100:80\n",
            "Número muito baixo\n",
            "Tente adivinhar um número de 0 a 100:85\n",
            "Parabéns! Você acertou o número\n"
          ]
        }
      ]
    },
    {
      "cell_type": "markdown",
      "metadata": {
        "id": "qk4Gw-GAqFjY"
      },
      "source": [
        "DESAFIO 4\n",
        "\n",
        "Crie um programa que permita ao usuário gerenciar suas tarefas diárias. O programa deve oferecer as seguintes funcionalidades:\n",
        "\n",
        "Adicionar uma nova tarefa;\n",
        "\n",
        "Visualizar todas as tarefas;\n",
        "\n",
        "Remover uma tarefa;\n",
        "\n",
        "Sair do programa.\n",
        "\n",
        "(Você pode implementar essas funcionalidades usando listas para armazenar as tarefas e estruturas de controle como loops e condicionais para interagir com o usuário.)"
      ]
    },
    {
      "cell_type": "code",
      "source": [
        "# Funções para auxiliar no programa que vai permitir ao usuário gerenciar suas tarefas\n",
        "\n",
        "# Inicializando a lista de tarefas\n",
        "tarefas = []\n",
        "\n",
        "# Função para adicionar uma nova tarefa\n",
        "def adicionar_tarefa(tarefa):\n",
        "    tarefas.append(tarefa)\n",
        "    print(f\"To-do '{tarefa}' adicionado com sucesso!\")\n",
        "\n",
        "adicionar_tarefa('Desafio Python')\n",
        "adicionar_tarefa('Entrevista WoMakersCode Bootcamp')\n",
        "\n",
        "\n",
        "# Função para visualizar as tarefas\n",
        "def visualizar_tarefas():\n",
        "    if tarefas:\n",
        "        print(\"\\nSeus to-dos atuais são:\")\n",
        "        for indice, tarefa in enumerate(tarefas, 1):\n",
        "            print(f\"{indice}. {tarefa}\")\n",
        "    else:\n",
        "        print(\"Nenhum to-do no momento.\")\n",
        "\n",
        "visualizar_tarefas()\n",
        "\n",
        "\n",
        "# Função para remover uma tarefa\n",
        "def remover_tarefa(indice):\n",
        "    if 0 <= indice < len(tarefas):\n",
        "        tarefa_removido = tarefas.pop(indice)\n",
        "        print(f\"To-do '{tarefa_removido}' removido com sucesso!\")\n",
        "    else:\n",
        "        print(\"Número de to-do inválido.\")"
      ],
      "metadata": {
        "colab": {
          "base_uri": "https://localhost:8080/"
        },
        "id": "B1IBZ1qVTEFh",
        "outputId": "0d6c81ff-0629-408c-80f7-57bf7db0d0ec"
      },
      "execution_count": 4,
      "outputs": [
        {
          "output_type": "stream",
          "name": "stdout",
          "text": [
            "To-do 'Desafio Python' adicionado com sucesso!\n",
            "To-do 'Entrevista WoMakersCode Bootcamp' adicionado com sucesso!\n",
            "\n",
            "Seus to-dos atuais são:\n",
            "1. Desafio Python\n",
            "2. Entrevista WoMakersCode Bootcamp\n"
          ]
        }
      ]
    },
    {
      "cell_type": "code",
      "source": [
        "#Programa para gerenciamento de tarefas\n",
        "\n",
        "def tarefas_diarias():\n",
        "    while True:\n",
        "        print(\"\\nLista de Tarefas Diárias:\")\n",
        "        print(\"1. Adicionar Tarefa\")\n",
        "        print(\"2. Visualizar Tarefas\")\n",
        "        print(\"3. Remover Tarefa\")\n",
        "        print(\"4. Sair\")\n",
        "\n",
        "        opcao = input(\"Escolha uma opção (1-4): \")\n",
        "\n",
        "        if opcao == \"1\":\n",
        "            to_do = input(\"Digite uma nova tarefa: \")\n",
        "            adicionar_tarefa(to_do)\n",
        "\n",
        "        elif opcao == \"2\":\n",
        "            visualizar_tarefas()\n",
        "\n",
        "        elif opcao == \"3\":\n",
        "            visualizar_tarefas()\n",
        "            indice = int(input(\"Digite o número da tarefa para remover: \")) - 1\n",
        "            remover_tarefa(indice)\n",
        "\n",
        "        elif opcao == \"4\":\n",
        "            print(\"Saindo da lista de tarefas...\")\n",
        "            break\n",
        "\n",
        "        else:\n",
        "            print(\"Opção inválida! Tente novamente.\")\n",
        "\n",
        "tarefas_diarias()"
      ],
      "metadata": {
        "id": "MiOlUacgwIjh",
        "colab": {
          "base_uri": "https://localhost:8080/"
        },
        "outputId": "fc009ac6-b5de-4a70-94a6-23c1b3050488"
      },
      "execution_count": 7,
      "outputs": [
        {
          "output_type": "stream",
          "name": "stdout",
          "text": [
            "\n",
            "Lista de Tarefas Diárias:\n",
            "1. Adicionar Tarefa\n",
            "2. Visualizar Tarefas\n",
            "3. Remover Tarefa\n",
            "4. Sair\n",
            "Escolha uma opção (1-4): 1\n",
            "Digite uma nova tarefa: Gravar vídeo para o Desafio Python\n",
            "To-do 'Gravar vídeo para o Desafio Python' adicionado com sucesso!\n",
            "\n",
            "Lista de Tarefas Diárias:\n",
            "1. Adicionar Tarefa\n",
            "2. Visualizar Tarefas\n",
            "3. Remover Tarefa\n",
            "4. Sair\n",
            "Escolha uma opção (1-4): 2\n",
            "\n",
            "Seus to-dos atuais são:\n",
            "1. Desafio Python\n",
            "2. Entrevista WoMakersCode Bootcamp\n",
            "3. Gravar vídeo para o Desafio Python\n",
            "\n",
            "Lista de Tarefas Diárias:\n",
            "1. Adicionar Tarefa\n",
            "2. Visualizar Tarefas\n",
            "3. Remover Tarefa\n",
            "4. Sair\n",
            "Escolha uma opção (1-4): 3\n",
            "\n",
            "Seus to-dos atuais são:\n",
            "1. Desafio Python\n",
            "2. Entrevista WoMakersCode Bootcamp\n",
            "3. Gravar vídeo para o Desafio Python\n",
            "Digite o número da tarefa para remover: 4\n",
            "Número de to-do inválido.\n",
            "\n",
            "Lista de Tarefas Diárias:\n",
            "1. Adicionar Tarefa\n",
            "2. Visualizar Tarefas\n",
            "3. Remover Tarefa\n",
            "4. Sair\n",
            "Escolha uma opção (1-4): 3\n",
            "\n",
            "Seus to-dos atuais são:\n",
            "1. Desafio Python\n",
            "2. Entrevista WoMakersCode Bootcamp\n",
            "3. Gravar vídeo para o Desafio Python\n",
            "Digite o número da tarefa para remover: 1\n",
            "To-do 'Desafio Python' removido com sucesso!\n",
            "\n",
            "Lista de Tarefas Diárias:\n",
            "1. Adicionar Tarefa\n",
            "2. Visualizar Tarefas\n",
            "3. Remover Tarefa\n",
            "4. Sair\n",
            "Escolha uma opção (1-4): 2\n",
            "\n",
            "Seus to-dos atuais são:\n",
            "1. Entrevista WoMakersCode Bootcamp\n",
            "2. Gravar vídeo para o Desafio Python\n",
            "\n",
            "Lista de Tarefas Diárias:\n",
            "1. Adicionar Tarefa\n",
            "2. Visualizar Tarefas\n",
            "3. Remover Tarefa\n",
            "4. Sair\n",
            "Escolha uma opção (1-4): 4\n",
            "Saindo da lista de tarefas...\n"
          ]
        }
      ]
    },
    {
      "cell_type": "markdown",
      "metadata": {
        "id": "cpVCv8m5QNm9"
      },
      "source": [
        "DESAFIO 5\n",
        "\n",
        "Escreva um programa em Python que funcione como uma calculadora simples. Ele deve pedir ao usuário para inserir dois números e, em seguida, solicitar a operação que deseja realizar (adição, subtração, multiplicação ou divisão)."
      ]
    },
    {
      "cell_type": "code",
      "execution_count": null,
      "metadata": {
        "id": "rGHbvDFVcGzy",
        "colab": {
          "base_uri": "https://localhost:8080/"
        },
        "outputId": "1a8254d5-4ad9-49e1-90d4-c4019a407cde"
      },
      "outputs": [
        {
          "name": "stdout",
          "output_type": "stream",
          "text": [
            "Digite o primeiro número:10\n",
            "Digite o segundo número:10\n",
            "1. Adição\n",
            "2. Subtração\n",
            "3. Multiplicação\n",
            "4. Divisão\n",
            "Digite a operação que deseja realizar:2\n",
            "A subtração dos números é:0.00\n",
            "Deseja realizar outra operação matemática? (s/n): s\n",
            "1. Adição\n",
            "2. Subtração\n",
            "3. Multiplicação\n",
            "4. Divisão\n",
            "Digite a operação que deseja realizar:2\n",
            "A subtração dos números é:0.00\n",
            "Deseja realizar outra operação matemática? (s/n): n\n"
          ]
        }
      ],
      "source": [
        "def calculadora():\n",
        "\n",
        "  num1=float(input(\"Digite o primeiro número:\"))\n",
        "  num2=float(input(\"Digite o segundo número:\"))\n",
        "\n",
        "  while True:\n",
        "    print(\"1. Adição\")\n",
        "    print(\"2. Subtração\")\n",
        "    print(\"3. Multiplicação\")\n",
        "    print(\"4. Divisão\")\n",
        "\n",
        "    op = int(input(\"Digite a operação que deseja realizar:\"))\n",
        "\n",
        "    ###INSERIR TRATAMENTO DE ERRO AQUI\n",
        "\n",
        "    if op == 1:\n",
        "      resultado = num1 + num2\n",
        "      print(f\"A soma dos números é:{resultado:.2f}\")\n",
        "    elif op == 2:\n",
        "      resultado = num1 - num2\n",
        "      print(f\"A subtração dos números é:{resultado:.2f}\")\n",
        "    elif op == 3:\n",
        "      resultado = num1 * num2\n",
        "      print(f\"A multiplicação dos números é:{resultado:.2f}\")\n",
        "    elif op == 4:\n",
        "      resultado = num1/num2\n",
        "      print(f\"A divisão dos números é:{resultado:.2f}\")\n",
        "    else:\n",
        "      print(\"Opção inválida\")  #colocar aqui o erro para opção inválida\n",
        "\n",
        "    continuar = input(\"Deseja realizar outra operação? (s/n): \")  # queria que continuasse pedindo para incluir novos números\n",
        "    if continuar.lower() != 's':\n",
        "        break\n",
        "\n",
        "calculadora()\n"
      ]
    }
  ],
  "metadata": {
    "colab": {
      "provenance": [],
      "include_colab_link": true
    },
    "kernelspec": {
      "display_name": "Python 3",
      "name": "python3"
    },
    "language_info": {
      "name": "python"
    }
  },
  "nbformat": 4,
  "nbformat_minor": 0
}